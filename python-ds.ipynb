{
 "cells": [
  {
   "cell_type": "markdown",
   "metadata": {},
   "source": [
    "# Web Mining and Applied NLP (44-620)\n",
    "\n",
    "## Python Notebooks, Basics, and Data Structures\n",
    "\n",
    "### Student Name: Alvaro Quintero Gonzalez\n",
    "\n",
    "Perform the tasks described in the Markdown cells below.  When you have completed the assignment make sure your code cells have all been run (and have output beneath them) and ensure you have committed and pushed ALL of your changes to your assignment repository.\n",
    "\n",
    "Every question that requires you to write code will have a code cell underneath it; you may either write your entire solution in that cell or write it in a python file (`.py`), then import and run the appropriate code to answer the question.\n",
    "\n",
    "Do not use external modules (`math`, etc) for this assignment unless you are explicitly instructed to, though you may use built in python functions (`min`, `max`, etc) as you wish."
   ]
  },
  {
   "cell_type": "markdown",
   "metadata": {},
   "source": [
    "1. Modify the Markdown cell above to put your name after \"Student Name:\"; you will be expected to do this in all assignments presented in this format for this class."
   ]
  },
  {
   "cell_type": "markdown",
   "metadata": {},
   "source": [
    "2. Write code that divides any two numbers, stores the result in a variable, and prints the result with an appropriate label."
   ]
  },
  {
   "cell_type": "code",
   "execution_count": 3,
   "metadata": {},
   "outputs": [
    {
     "name": "stdout",
     "output_type": "stream",
     "text": [
      "The result of dividing 50.0 by 25.0 is: 2.0\n"
     ]
    }
   ],
   "source": [
    "# Take two numbers for division\n",
    "num1 = float(input(\"Enter the first number (dividend): \"))\n",
    "num2 = float(input(\"Enter the second number (divisor): \"))\n",
    "\n",
    "# Perform the division\n",
    "if num2 != 0:  # Check to avoid division by zero\n",
    "    result = num1 / num2\n",
    "    # Print the result\n",
    "    print(f\"The result of dividing {num1} by {num2} is: {result}\")\n",
    "else:\n",
    "    print(\"Error: Cannot divide by zero.\")\n"
   ]
  },
  {
   "cell_type": "markdown",
   "metadata": {},
   "source": [
    "3. Using loops (and potentially conditionals), write Python code that prints the factorial of each integer from 1 through 10 (which you can store in a variable if you want). The factorial of an integer is the product of all of the integers of 1 through the number. Print the result with an appropriate label."
   ]
  },
  {
   "cell_type": "code",
   "execution_count": 5,
   "metadata": {},
   "outputs": [
    {
     "name": "stdout",
     "output_type": "stream",
     "text": [
      "The factorial of 1 is 1\n",
      "The factorial of 2 is 2\n",
      "The factorial of 3 is 6\n",
      "The factorial of 4 is 24\n",
      "The factorial of 5 is 120\n",
      "The factorial of 6 is 720\n",
      "The factorial of 7 is 5040\n",
      "The factorial of 8 is 40320\n",
      "The factorial of 9 is 362880\n",
      "The factorial of 10 is 3628800\n"
     ]
    }
   ],
   "source": [
    "# Function to calculate factorial\n",
    "def calculate_factorial(n):\n",
    "    factorial = 1\n",
    "    for i in range(1, n + 1):\n",
    "        factorial *= i\n",
    "    return factorial\n",
    "\n",
    "# Loop through numbers 1 to 10\n",
    "for number in range(1, 11):\n",
    "    result = calculate_factorial(number)\n",
    "    print(f\"The factorial of {number} is {result}\")\n"
   ]
  },
  {
   "cell_type": "markdown",
   "metadata": {},
   "source": [
    "4. Write a python function that takes a single parameter and calculates and returns the average (mean) of the values in the parameter (which you may assume is iterable).  Show that your function works by printing the result of calling the function on the list in the cell below."
   ]
  },
  {
   "cell_type": "code",
   "execution_count": 6,
   "metadata": {},
   "outputs": [
    {
     "name": "stdout",
     "output_type": "stream",
     "text": [
      "The average of the list is: 0.0\n"
     ]
    }
   ],
   "source": [
    "def calculate_average(values):\n",
    "    # Check if the iterable is not empty\n",
    "    if not values:\n",
    "        return 0  # or raise an exception if preferred\n",
    "    \n",
    "    total = sum(values)  # Calculate the sum of the values\n",
    "    count = len(values)  # Get the number of values\n",
    "    average = total / count  # Calculate the average\n",
    "    return average\n",
    "\n",
    "# Test list\n",
    "testlist = [1, -1, 2, -2, 3, -3, 4, -4]\n",
    "\n",
    "# Call the function and print the result\n",
    "result = calculate_average(testlist)\n",
    "print(f\"The average of the list is: {result}\")\n"
   ]
  },
  {
   "cell_type": "markdown",
   "metadata": {},
   "source": [
    "5. Using your mean function above, write a function that calculates the variance of the list of numbers (see https://en.wikipedia.org/wiki/Variance for more information on the formula). In short:\n",
    "* subtract the mean of the elements in the list from every element in the list; store these values in a new list\n",
    "* square every element in the new list and sum the elements together\n",
    "* divide the resulting number by N (where N is the length of the original list)\n",
    "\n",
    "Show the result of calling your function in the lists in the code cell. You must use one or more list comprehensions or map/filter in your code.\n"
   ]
  },
  {
   "cell_type": "code",
   "execution_count": 7,
   "metadata": {},
   "outputs": [
    {
     "name": "stdout",
     "output_type": "stream",
     "text": [
      "The variance of list1 is: 1.13973309\n",
      "The variance of list2 is: 0.9257232841\n"
     ]
    }
   ],
   "source": [
    "def calculate_average(values):\n",
    "    if not values:\n",
    "        return 0  # or raise an exception if preferred\n",
    "    total = sum(values)\n",
    "    count = len(values)\n",
    "    average = total / count\n",
    "    return average\n",
    "\n",
    "def calculate_variance(values):\n",
    "    # Calculate the mean\n",
    "    mean_value = calculate_average(values)\n",
    "    \n",
    "    # Create a list of squared differences from the mean using a list comprehension\n",
    "    squared_diffs = [(x - mean_value) ** 2 for x in values]\n",
    "    \n",
    "    # Calculate the variance\n",
    "    variance = sum(squared_diffs) / len(values)\n",
    "    return variance\n",
    "\n",
    "# Test lists\n",
    "list1 = [5.670e-1, -1.480e+0, -5.570e-1, -1.470e+0, 7.340e-1, 1.050e+0, \n",
    "         4.480e-1, 2.570e-1, -1.970e+0, -1.460e+0]\n",
    "list2 = [-1.780e+0, 2.640e-1, 1.160e+0, 9.080e-1, 1.780e+0, 1.080e+0, \n",
    "         1.050e+0, -4.630e-2, 1.520e+0, 5.350e-1]\n",
    "\n",
    "# Calculate variances\n",
    "variance_list1 = calculate_variance(list1)\n",
    "variance_list2 = calculate_variance(list2)\n",
    "\n",
    "# Print the results\n",
    "print(f\"The variance of list1 is: {variance_list1}\")\n",
    "print(f\"The variance of list2 is: {variance_list2}\")\n"
   ]
  },
  {
   "cell_type": "markdown",
   "metadata": {},
   "source": [
    "6. Create a list with at least 15 elements in it. Use list slicing to print the following:\n",
    "* The first 5 elements of the list\n",
    "* The last 5 elements of the list\n",
    "* The list reversed (hint, show the entire list with a stride of -1)\n",
    "* Every second element in the list\n",
    "* Every third element in the list (stride of 3)"
   ]
  },
  {
   "cell_type": "code",
   "execution_count": 8,
   "metadata": {},
   "outputs": [
    {
     "name": "stdout",
     "output_type": "stream",
     "text": [
      "The first 5 elements: [10, 20, 30, 40, 50]\n",
      "The last 5 elements: [120, 130, 140, 150, 160]\n",
      "The list reversed: [160, 150, 140, 130, 120, 110, 100, 90, 80, 70, 60, 50, 40, 30, 20, 10]\n",
      "Every second element: [10, 30, 50, 70, 90, 110, 130, 150]\n",
      "Every third element: [10, 40, 70, 100, 130, 160]\n"
     ]
    }
   ],
   "source": [
    "# Creating a list with at least 15 elements\n",
    "my_list = [10, 20, 30, 40, 50, 60, 70, 80, 90, 100, 110, 120, 130, 140, 150, 160]\n",
    "\n",
    "# Printing the first 5 elements of the list\n",
    "first_five = my_list[:5]\n",
    "print(f\"The first 5 elements: {first_five}\")\n",
    "\n",
    "# Printing the last 5 elements of the list\n",
    "last_five = my_list[-5:]\n",
    "print(f\"The last 5 elements: {last_five}\")\n",
    "\n",
    "# Printing the entire list reversed\n",
    "reversed_list = my_list[::-1]\n",
    "print(f\"The list reversed: {reversed_list}\")\n",
    "\n",
    "# Printing every second element in the list\n",
    "every_second = my_list[::2]\n",
    "print(f\"Every second element: {every_second}\")\n",
    "\n",
    "# Printing every third element in the list\n",
    "every_third = my_list[::3]\n",
    "print(f\"Every third element: {every_third}\")\n"
   ]
  },
  {
   "cell_type": "markdown",
   "metadata": {},
   "source": [
    "7. Build a dictionary that contains the following information about this class (with appropriate names as keys):\n",
    "* The name\n",
    "* The course number\n",
    "* The semester/term in which you are taking this course\n",
    "* The number of credit hours this course counts for\n",
    "* A list of the course learning objectives\n",
    "\n",
    "The majority of this information can be found in the syllabus. Print the dictionary."
   ]
  },
  {
   "cell_type": "code",
   "execution_count": 9,
   "metadata": {},
   "outputs": [
    {
     "name": "stdout",
     "output_type": "stream",
     "text": [
      "{'name': 'WebMiningAndAppliedNLP', 'course_number': '44-620-8081', 'semester': 'F24_OP2', 'credit_hours': '3 credits', 'learning_objectives': ['L01. Manage Python libraries and packages', 'L02. Interact with Hosted Version Control Systems (e.g. Git and GitHub)', 'L03. Programmatically obtain and transform data from web-based APIs and HTML pages into a usable form', 'L04. Describe the steps in a basic Natural Language Processing Pipeline', 'L05. Use preexisting tools and software libraries to perform some Natural Language Processing, such as sentiment analysis', 'L06. Explain results and conclusions drawn from the visualized information']}\n"
     ]
    }
   ],
   "source": [
    "# Creating a dictionary with course information\n",
    "course_info = {\n",
    "    \"name\": \"WebMiningAndAppliedNLP\",\n",
    "    \"course_number\": \"44-620-8081\",\n",
    "    \"semester\": \"F24_OP2\",\n",
    "    \"credit_hours\": \"3 credits\",\n",
    "    \"learning_objectives\": [\n",
    "        \"L01. Manage Python libraries and packages\",\n",
    "        \"L02. Interact with Hosted Version Control Systems (e.g. Git and GitHub)\",\n",
    "        \"L03. Programmatically obtain and transform data from web-based APIs and HTML pages into a usable form\",\n",
    "        \"L04. Describe the steps in a basic Natural Language Processing Pipeline\",\n",
    "        \"L05. Use preexisting tools and software libraries to perform some Natural Language Processing, such as sentiment analysis\",\n",
    "        \"L06. Explain results and conclusions drawn from the visualized information\"\n",
    "    ]\n",
    "}\n",
    "\n",
    "# Printing the dictionary\n",
    "print(course_info)\n"
   ]
  },
  {
   "cell_type": "markdown",
   "metadata": {},
   "source": [
    "8.  Given the dictionary defined in the code cell below, print the list of level 3 spells the character has."
   ]
  },
  {
   "cell_type": "code",
   "execution_count": 10,
   "metadata": {},
   "outputs": [
    {
     "name": "stdout",
     "output_type": "stream",
     "text": [
      "Level 3 spells: ['Mass Healing Word', 'Nondetection', 'Revivify', 'Feign Death', 'Speak with Dead']\n"
     ]
    }
   ],
   "source": [
    "# Given player_character dictionary\n",
    "player_character = {\n",
    "    'name': 'Kitab',\n",
    "    'class': [('Cleric: Knowledge', 7)],\n",
    "    'spells': {\n",
    "        'cantrip': ['Guidance', 'Light', 'Thaumaturgy', 'Toll the Dead', 'Word of Radiance'],\n",
    "        'level 1': ['Command', 'Detect Magic', 'Healing Word', 'Identify', 'Sleep'],\n",
    "        'level 2': ['Augury', 'Calm Emotions', 'Command', 'Invisibility', 'Lesser Restoration'],\n",
    "        'level 3': ['Mass Healing Word', 'Nondetection', 'Revivify', 'Feign Death', 'Speak with Dead'],\n",
    "        'level 4': ['Banishment', 'Confusion']\n",
    "    }\n",
    "}\n",
    "\n",
    "# Extracting the level 3 spells\n",
    "level_3_spells = player_character['spells']['level 3']\n",
    "\n",
    "# Printing the list of level 3 spells\n",
    "print(\"Level 3 spells:\", level_3_spells)\n"
   ]
  },
  {
   "cell_type": "markdown",
   "metadata": {},
   "source": [
    "9. Write code to determine the number of unique elements in the list below.  You MUST use a set in finding your solution.  Print the number of unique values in the list with an appropriate label."
   ]
  },
  {
   "cell_type": "code",
   "execution_count": 11,
   "metadata": {},
   "outputs": [
    {
     "name": "stdout",
     "output_type": "stream",
     "text": [
      "The number of unique values in the list is: 12\n"
     ]
    }
   ],
   "source": [
    "# Given list of values\n",
    "values = [10, 11, 10, 8, 1, 12, 0, 1, 6, 5, 5, 13, 6, 15, 0, 0, 1, 1, 9, 7]\n",
    "\n",
    "# Using a set to find unique elements\n",
    "unique_values = set(values)\n",
    "\n",
    "# Determining the number of unique elements\n",
    "number_of_unique_values = len(unique_values)\n",
    "\n",
    "# Printing the result\n",
    "print(f\"The number of unique values in the list is: {number_of_unique_values}\")\n"
   ]
  },
  {
   "cell_type": "markdown",
   "metadata": {},
   "source": [
    "10. Create a new Jupyter Notebook (the name of the notebook should be your S number). Add a Markdown cell that contains your name. Add a Code cell and write Python that uses loops to draw the following pattern:\n",
    "\n",
    "```\n",
    "*      *\n",
    "**    **\n",
    "***  ***\n",
    "********\n",
    "```\n",
    "Make sure to add and submit both the new notebook and the changes to this notebook for this assignment."
   ]
  }
 ],
 "metadata": {
  "kernelspec": {
   "display_name": "Python 3",
   "language": "python",
   "name": "python3"
  },
  "language_info": {
   "codemirror_mode": {
    "name": "ipython",
    "version": 3
   },
   "file_extension": ".py",
   "mimetype": "text/x-python",
   "name": "python",
   "nbconvert_exporter": "python",
   "pygments_lexer": "ipython3",
   "version": "3.12.3"
  }
 },
 "nbformat": 4,
 "nbformat_minor": 4
}
