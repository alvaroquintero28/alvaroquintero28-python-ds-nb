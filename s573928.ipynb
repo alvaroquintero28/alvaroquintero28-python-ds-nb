{
 "cells": [
  {
   "cell_type": "code",
   "execution_count": 1,
   "metadata": {},
   "outputs": [
    {
     "name": "stdout",
     "output_type": "stream",
     "text": [
      "*      *\n",
      "**    **\n",
      "***  ***\n",
      "********\n"
     ]
    }
   ],
   "source": [
    "# Drawing the pattern using nested loops\n",
    "rows = 4  # Number of rows in the pattern\n",
    "\n",
    "for i in range(1, rows + 1):\n",
    "    # Print *'s for the left part of the pattern\n",
    "    print('*' * i, end='')\n",
    "\n",
    "    # Print spaces in the middle\n",
    "    spaces = (rows - i) * 2  # Calculate number of spaces\n",
    "    print(' ' * spaces, end='')\n",
    "\n",
    "    # Print *'s for the right part of the pattern\n",
    "    print('*' * i)\n"
   ]
  }
 ],
 "metadata": {
  "kernelspec": {
   "display_name": "Python 3",
   "language": "python",
   "name": "python3"
  },
  "language_info": {
   "codemirror_mode": {
    "name": "ipython",
    "version": 3
   },
   "file_extension": ".py",
   "mimetype": "text/x-python",
   "name": "python",
   "nbconvert_exporter": "python",
   "pygments_lexer": "ipython3",
   "version": "3.12.3"
  }
 },
 "nbformat": 4,
 "nbformat_minor": 2
}
